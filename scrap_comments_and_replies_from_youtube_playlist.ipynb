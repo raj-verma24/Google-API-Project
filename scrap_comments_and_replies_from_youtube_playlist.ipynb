{
 "cells": [
  {
   "cell_type": "code",
   "execution_count": 6,
   "id": "e34b1786-a3b3-4edf-9b20-67dd8f6df921",
   "metadata": {},
   "outputs": [],
   "source": [
    "from googleapiclient.discovery import build\n",
    "import googleapiclient.errors\n",
    "import pandas as pd\n",
    "import getpass"
   ]
  },
  {
   "cell_type": "markdown",
   "id": "3a8686f6-e31f-4fe5-8699-dd1b95311e6c",
   "metadata": {},
   "source": [
    "USER INPUT"
   ]
  },
  {
   "cell_type": "code",
   "execution_count": 4,
   "id": "ad09d51b-162b-4a52-82d3-1010635e9f98",
   "metadata": {},
   "outputs": [
    {
     "name": "stdin",
     "output_type": "stream",
     "text": [
      "Please enter your YouTube API key:  ········\n"
     ]
    }
   ],
   "source": [
    "api_key = getpass.getpass('Please enter your YouTube API key: ')\n",
    "playlist_ids = ['PLIivdWyY5sqJwPaahO6caM6u_OYFYgLQL']"
   ]
  },
  {
   "cell_type": "code",
   "execution_count": 7,
   "id": "f10f7b99-b497-4a15-84d2-63589659f73a",
   "metadata": {},
   "outputs": [],
   "source": [
    "# Build the YouTube client\n",
    "youtube = build('youtube', 'v3', developerKey=api_key)"
   ]
  },
  {
   "cell_type": "markdown",
   "id": "897dd3cd-f0ce-47a7-bbab-03b7c077b921",
   "metadata": {},
   "source": [
    "GET VIDEO IDs FOR PLAYLIST"
   ]
  },
  {
   "cell_type": "code",
   "execution_count": 8,
   "id": "5d4bf3c4-c8d8-4bb1-ae2a-6fabaeec5114",
   "metadata": {},
   "outputs": [],
   "source": [
    "def get_all_video_ids_from_playlists(youtube, playlist_ids):\n",
    "    all_videos = []  # Initialize a single list to hold all video IDs\n",
    "\n",
    "    for playlist_id in playlist_ids:\n",
    "        next_page_token = None\n",
    "\n",
    "        # Fetch videos from the current playlist\n",
    "        while True:\n",
    "            playlist_request = youtube.playlistItems().list(\n",
    "                part='contentDetails',\n",
    "                playlistId=playlist_id,\n",
    "                maxResults=50,\n",
    "                pageToken=next_page_token)\n",
    "            playlist_response = playlist_request.execute()\n",
    "\n",
    "            all_videos += [item['contentDetails']['videoId'] for item in playlist_response['items']]\n",
    "\n",
    "            next_page_token = playlist_response.get('nextPageToken')\n",
    "\n",
    "            if next_page_token is None:\n",
    "                break\n",
    "\n",
    "    return all_videos\n",
    "\n",
    "# Fetch all video IDs from the specified playlists\n",
    "video_ids = get_all_video_ids_from_playlists(youtube, playlist_ids)\n",
    "\n",
    "# Now you can pass video_ids to the next function\n",
    "# next_function(video_ids)"
   ]
  },
  {
   "cell_type": "code",
   "execution_count": 9,
   "id": "3c29158f-8905-4275-b329-64f784c942fb",
   "metadata": {},
   "outputs": [
    {
     "data": {
      "text/plain": [
       "['y0ZTg2Ckjz4', 'fEzEM6ADwXg', 'fJlo7LsG4Mw', 'ObUeheBTBjY', '9xAfEUSjE5o']"
      ]
     },
     "execution_count": 9,
     "metadata": {},
     "output_type": "execute_result"
    }
   ],
   "source": [
    "video_ids"
   ]
  },
  {
   "cell_type": "markdown",
   "id": "93976ee4-7a4d-4684-9dd7-dde6520e3e98",
   "metadata": {},
   "source": [
    "Get All Comments"
   ]
  },
  {
   "cell_type": "code",
   "execution_count": 12,
   "id": "5f5f1572-1fdd-4261-97d4-177cd6e74aec",
   "metadata": {},
   "outputs": [],
   "source": [
    "# Function to get replies for a specific comment\n",
    "def get_replies(youtube, parent_id, video_id):  # Added video_id as an argument\n",
    "    replies = []\n",
    "    next_page_token = None\n",
    "\n",
    "    while True:\n",
    "        reply_request = youtube.comments().list(\n",
    "            part=\"snippet\",\n",
    "            parentId=parent_id,\n",
    "            textFormat=\"plainText\",\n",
    "            maxResults=100,\n",
    "            pageToken=next_page_token\n",
    "        )\n",
    "        reply_response = reply_request.execute()\n",
    "\n",
    "        for item in reply_response['items']:\n",
    "            comment = item['snippet']\n",
    "            replies.append({\n",
    "                'Timestamp': comment['publishedAt'],\n",
    "                'Username': comment['authorDisplayName'],\n",
    "                'VideoID': video_id,\n",
    "                'Comment': comment['textDisplay'],\n",
    "                'Date': comment['updatedAt'] if 'updatedAt' in comment else comment['publishedAt']\n",
    "            })\n",
    "\n",
    "        next_page_token = reply_response.get('nextPageToken')\n",
    "        if not next_page_token:\n",
    "            break\n",
    "\n",
    "    return replies\n",
    "\n",
    "# Function to get all comments (including replies) for a single video\n",
    "def get_comments_for_video(youtube, video_id):\n",
    "    all_comments = []\n",
    "    next_page_token = None\n",
    "\n",
    "    while True:\n",
    "        comment_request = youtube.commentThreads().list(\n",
    "            part=\"snippet\",\n",
    "            videoId=video_id,\n",
    "            pageToken=next_page_token,\n",
    "            textFormat=\"plainText\",\n",
    "            maxResults=100\n",
    "        )\n",
    "        comment_response = comment_request.execute()\n",
    "\n",
    "        for item in comment_response['items']:\n",
    "            top_comment = item['snippet']['topLevelComment']['snippet']\n",
    "            all_comments.append({\n",
    "                'Timestamp': top_comment['publishedAt'],\n",
    "                'Username': top_comment['authorDisplayName'],\n",
    "                'VideoID': video_id,  # Directly using video_id from function parameter\n",
    "                'Comment': top_comment['textDisplay'],\n",
    "                'Date': top_comment['updatedAt'] if 'updatedAt' in top_comment else top_comment['publishedAt']\n",
    "            })\n",
    "\n",
    "            # Fetch replies if there are any\n",
    "            if item['snippet']['totalReplyCount'] > 0:\n",
    "                all_comments.extend(get_replies(youtube, item['snippet']['topLevelComment']['id'], video_id))\n",
    "\n",
    "        next_page_token = comment_response.get('nextPageToken')\n",
    "        if not next_page_token:\n",
    "            break\n",
    "\n",
    "    return all_comments\n",
    "\n",
    "# List to hold all comments from all videos\n",
    "all_comments = []\n",
    "\n",
    "\n",
    "for video_id in video_ids:\n",
    "    video_comments = get_comments_for_video(youtube, video_id)\n",
    "    all_comments.extend(video_comments)\n",
    "\n",
    "# Create DataFrame\n",
    "comments_df = pd.DataFrame(all_comments)"
   ]
  },
  {
   "cell_type": "code",
   "execution_count": 13,
   "id": "518ddc9f-acce-4405-9935-635bbae67f43",
   "metadata": {},
   "outputs": [
    {
     "data": {
      "text/html": [
       "<div>\n",
       "<style scoped>\n",
       "    .dataframe tbody tr th:only-of-type {\n",
       "        vertical-align: middle;\n",
       "    }\n",
       "\n",
       "    .dataframe tbody tr th {\n",
       "        vertical-align: top;\n",
       "    }\n",
       "\n",
       "    .dataframe thead th {\n",
       "        text-align: right;\n",
       "    }\n",
       "</style>\n",
       "<table border=\"1\" class=\"dataframe\">\n",
       "  <thead>\n",
       "    <tr style=\"text-align: right;\">\n",
       "      <th></th>\n",
       "      <th>Timestamp</th>\n",
       "      <th>Username</th>\n",
       "      <th>VideoID</th>\n",
       "      <th>Comment</th>\n",
       "      <th>Date</th>\n",
       "    </tr>\n",
       "  </thead>\n",
       "  <tbody>\n",
       "    <tr>\n",
       "      <th>0</th>\n",
       "      <td>2023-07-11T21:40:58Z</td>\n",
       "      <td>@googlecloudtech</td>\n",
       "      <td>y0ZTg2Ckjz4</td>\n",
       "      <td>Subscribe to Google Cloud Tech → https://goo.g...</td>\n",
       "      <td>2023-07-11T21:40:58Z</td>\n",
       "    </tr>\n",
       "    <tr>\n",
       "      <th>1</th>\n",
       "      <td>2024-03-01T15:35:24Z</td>\n",
       "      <td>@kappiv2356</td>\n",
       "      <td>y0ZTg2Ckjz4</td>\n",
       "      <td>Is not the LIMIT runs after query processing i...</td>\n",
       "      <td>2024-03-01T15:35:24Z</td>\n",
       "    </tr>\n",
       "    <tr>\n",
       "      <th>2</th>\n",
       "      <td>2023-07-11T21:30:11Z</td>\n",
       "      <td>@googlecloudtech</td>\n",
       "      <td>fEzEM6ADwXg</td>\n",
       "      <td>Subscribe to Google Cloud Tech → https://goo.g...</td>\n",
       "      <td>2023-07-11T21:30:11Z</td>\n",
       "    </tr>\n",
       "    <tr>\n",
       "      <th>3</th>\n",
       "      <td>2023-07-16T15:26:51Z</td>\n",
       "      <td>@SyedSajjadAskari</td>\n",
       "      <td>fEzEM6ADwXg</td>\n",
       "      <td>Why is pricing in gcp is difficult to understand</td>\n",
       "      <td>2023-07-16T15:26:51Z</td>\n",
       "    </tr>\n",
       "    <tr>\n",
       "      <th>4</th>\n",
       "      <td>2023-07-12T03:42:44Z</td>\n",
       "      <td>@Kondaranjith3</td>\n",
       "      <td>fEzEM6ADwXg</td>\n",
       "      <td>Thank you Google cloud tech from India @ Ranji...</td>\n",
       "      <td>2023-07-12T03:42:44Z</td>\n",
       "    </tr>\n",
       "    <tr>\n",
       "      <th>5</th>\n",
       "      <td>2023-07-12T18:13:52Z</td>\n",
       "      <td>@googlecloudtech</td>\n",
       "      <td>fEzEM6ADwXg</td>\n",
       "      <td>We're happy to hear you found this content use...</td>\n",
       "      <td>2023-07-12T18:13:52Z</td>\n",
       "    </tr>\n",
       "    <tr>\n",
       "      <th>6</th>\n",
       "      <td>2023-07-11T23:23:42Z</td>\n",
       "      <td>@himanshujaiswal9411</td>\n",
       "      <td>fEzEM6ADwXg</td>\n",
       "      <td>Himanshu Jaiswal from India</td>\n",
       "      <td>2023-07-11T23:23:42Z</td>\n",
       "    </tr>\n",
       "    <tr>\n",
       "      <th>7</th>\n",
       "      <td>2023-07-11T21:43:22Z</td>\n",
       "      <td>@googlecloudtech</td>\n",
       "      <td>fJlo7LsG4Mw</td>\n",
       "      <td>Subscribe to Google Cloud Tech → https://goo.g...</td>\n",
       "      <td>2023-07-11T21:43:22Z</td>\n",
       "    </tr>\n",
       "    <tr>\n",
       "      <th>8</th>\n",
       "      <td>2023-07-29T16:44:38Z</td>\n",
       "      <td>@Andhruduful</td>\n",
       "      <td>fJlo7LsG4Mw</td>\n",
       "      <td>You have provided huge amount of information i...</td>\n",
       "      <td>2023-07-29T16:44:38Z</td>\n",
       "    </tr>\n",
       "  </tbody>\n",
       "</table>\n",
       "</div>"
      ],
      "text/plain": [
       "              Timestamp              Username      VideoID  \\\n",
       "0  2023-07-11T21:40:58Z      @googlecloudtech  y0ZTg2Ckjz4   \n",
       "1  2024-03-01T15:35:24Z           @kappiv2356  y0ZTg2Ckjz4   \n",
       "2  2023-07-11T21:30:11Z      @googlecloudtech  fEzEM6ADwXg   \n",
       "3  2023-07-16T15:26:51Z     @SyedSajjadAskari  fEzEM6ADwXg   \n",
       "4  2023-07-12T03:42:44Z        @Kondaranjith3  fEzEM6ADwXg   \n",
       "5  2023-07-12T18:13:52Z      @googlecloudtech  fEzEM6ADwXg   \n",
       "6  2023-07-11T23:23:42Z  @himanshujaiswal9411  fEzEM6ADwXg   \n",
       "7  2023-07-11T21:43:22Z      @googlecloudtech  fJlo7LsG4Mw   \n",
       "8  2023-07-29T16:44:38Z          @Andhruduful  fJlo7LsG4Mw   \n",
       "\n",
       "                                             Comment                  Date  \n",
       "0  Subscribe to Google Cloud Tech → https://goo.g...  2023-07-11T21:40:58Z  \n",
       "1  Is not the LIMIT runs after query processing i...  2024-03-01T15:35:24Z  \n",
       "2  Subscribe to Google Cloud Tech → https://goo.g...  2023-07-11T21:30:11Z  \n",
       "3   Why is pricing in gcp is difficult to understand  2023-07-16T15:26:51Z  \n",
       "4  Thank you Google cloud tech from India @ Ranji...  2023-07-12T03:42:44Z  \n",
       "5  We're happy to hear you found this content use...  2023-07-12T18:13:52Z  \n",
       "6                        Himanshu Jaiswal from India  2023-07-11T23:23:42Z  \n",
       "7  Subscribe to Google Cloud Tech → https://goo.g...  2023-07-11T21:43:22Z  \n",
       "8  You have provided huge amount of information i...  2023-07-29T16:44:38Z  "
      ]
     },
     "execution_count": 13,
     "metadata": {},
     "output_type": "execute_result"
    }
   ],
   "source": [
    "comments_df.head(10)"
   ]
  },
  {
   "cell_type": "markdown",
   "id": "9b0ae1a2-f1ac-4c1f-a535-975d0046884e",
   "metadata": {},
   "source": [
    "Output to CSV"
   ]
  },
  {
   "cell_type": "code",
   "execution_count": 14,
   "id": "23b0ec71-9796-4f75-b305-e407690431a9",
   "metadata": {},
   "outputs": [],
   "source": [
    "comments_df.to_csv('Documents/youtube_playlistvideo_comments.csv')"
   ]
  },
  {
   "cell_type": "code",
   "execution_count": null,
   "id": "dfb8db03-c20d-4243-84b5-ca440a695fe3",
   "metadata": {},
   "outputs": [],
   "source": []
  }
 ],
 "metadata": {
  "kernelspec": {
   "display_name": "Python 3 (ipykernel)",
   "language": "python",
   "name": "python3"
  },
  "language_info": {
   "codemirror_mode": {
    "name": "ipython",
    "version": 3
   },
   "file_extension": ".py",
   "mimetype": "text/x-python",
   "name": "python",
   "nbconvert_exporter": "python",
   "pygments_lexer": "ipython3",
   "version": "3.12.1"
  }
 },
 "nbformat": 4,
 "nbformat_minor": 5
}
